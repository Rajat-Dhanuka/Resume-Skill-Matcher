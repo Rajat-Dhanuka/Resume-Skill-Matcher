{
 "cells": [
  {
   "cell_type": "markdown",
   "metadata": {
    "id": "GHr18ewBGEuj",
    "tags": []
   },
   "source": [
    "### Installing transformer library"
   ]
  },
  {
   "cell_type": "code",
   "execution_count": null,
   "metadata": {
    "id": "eoGL7dMW_kpo",
    "tags": []
   },
   "outputs": [],
   "source": [
    "!pip install transformers"
   ]
  },
  {
   "cell_type": "markdown",
   "metadata": {
    "id": "TcbfT-y57WIG"
   },
   "source": [
    "### Importing necessaries libraries..."
   ]
  },
  {
   "cell_type": "code",
   "execution_count": 1,
   "metadata": {
    "id": "6UFTz9nc-efD"
   },
   "outputs": [],
   "source": [
    "import matplotlib.pyplot as plt\n",
    "%matplotlib inline\n",
    "\n",
    "import os\n",
    "import sys\n",
    "\n",
    "import numpy as np\n",
    "import random as rn\n",
    "import pandas as pd\n",
    "from sklearn.preprocessing import MultiLabelBinarizer\n",
    "from ast import literal_eval\n",
    "\n",
    "from sklearn.feature_extraction.text import CountVectorizer\n",
    "from sklearn.linear_model import LogisticRegression\n",
    "from sklearn.pipeline import make_pipeline\n",
    "from sklearn.metrics import classification_report\n",
    "\n",
    "import torch\n",
    "from torch import nn\n",
    "from torch.utils.data import TensorDataset, DataLoader, RandomSampler, SequentialSampler\n",
    "from torch.optim import Adam, AdamW\n",
    "from torch.nn.utils import clip_grad_norm_\n",
    "\n",
    "from transformers import AutoModel, BertTokenizerFast\n",
    "from IPython.display import clear_output\n",
    "from tqdm.auto import tqdm\n",
    "\n",
    "device = torch.device(\"cuda\" if torch.cuda.is_available() else \"cpu\")"
   ]
  },
  {
   "cell_type": "markdown",
   "metadata": {
    "id": "c7Qx_LaKGehg"
   },
   "source": [
    "#### Loading bert pre-trained model and tokenizer"
   ]
  },
  {
   "cell_type": "code",
   "execution_count": 2,
   "metadata": {
    "id": "RKICwmuz8NOG"
   },
   "outputs": [],
   "source": [
    "bert = AutoModel.from_pretrained('bert-base-uncased')\n",
    "tokenizer = BertTokenizerFast.from_pretrained('bert-base-uncased', do_lower_case=True)"
   ]
  },
  {
   "cell_type": "markdown",
   "metadata": {},
   "source": [
    "#### Important parameters"
   ]
  },
  {
   "cell_type": "code",
   "execution_count": 3,
   "metadata": {},
   "outputs": [],
   "source": [
    "#maximum number of tokens for data representation (the lower, the poorer representation but less memory)\n",
    "MAX_TOKENS = 512 #could be 128 but 512 is the maximum size allowed\n",
    "BATCH_SIZE = 32 #the higher is better but requires more memory\n",
    "EPOCHS = 5 #the higher is better but requires more time to complete the training process\n",
    "THRESHOLD = 0.5"
   ]
  },
  {
   "cell_type": "markdown",
   "metadata": {
    "id": "QS31Y5YVGqeS"
   },
   "source": [
    "#### Mounting Google drive"
   ]
  },
  {
   "cell_type": "code",
   "execution_count": 4,
   "metadata": {
    "colab": {
     "base_uri": "https://localhost:8080/"
    },
    "id": "IS0EZNNBGBS-",
    "outputId": "28c95f37-17c6-40ef-9623-c5fbafea98ca"
   },
   "outputs": [],
   "source": [
    "from google.colab import drive\n",
    "drive.mount('/content/gdrive')"
   ]
  },
  {
   "cell_type": "markdown",
   "metadata": {
    "id": "aO2hQXYuGy9A"
   },
   "source": [
    "#### Setting up data path"
   ]
  },
  {
   "cell_type": "code",
   "execution_count": 5,
   "metadata": {
    "colab": {
     "base_uri": "https://localhost:8080/"
    },
    "id": "U9hDIgZyGM0K",
    "outputId": "fc8492b7-b2a2-45da-8b80-b582455db9ca",
    "tags": []
   },
   "outputs": [
    {
     "data": {
      "text/plain": [
       "['Skill_test',\n",
       " 'CV_train',\n",
       " 'Skill_val',\n",
       " 'test',\n",
       " 'train.csv',\n",
       " 'CV_test',\n",
       " 'test.csv',\n",
       " 'train',\n",
       " 'val.csv',\n",
       " 'val',\n",
       " 'Skill_train',\n",
       " 'CV_val',\n",
       " 'normlized_classes.txt']"
      ]
     },
     "execution_count": 5,
     "metadata": {},
     "output_type": "execute_result"
    }
   ],
   "source": [
    "root_data_path = 'file path'\n",
    "#root_data_path = '/projets/sig/mullah/nlp/cv/data/corpus_splits/'\n",
    "os.listdir(root_data_path)"
   ]
  },
  {
   "cell_type": "markdown",
   "metadata": {
    "id": "hYT3DzsOG1Lj"
   },
   "source": [
    "#### Loading train, validation, and test datasets"
   ]
  },
  {
   "cell_type": "code",
   "execution_count": 6,
   "metadata": {
    "id": "HNK8kKgxGYWj"
   },
   "outputs": [],
   "source": [
    "train_data = pd.read_csv(os.path.join(root_data_path, \"train.csv\"), header=0, delimiter=\",\")\n",
    "val_data = pd.read_csv(os.path.join(root_data_path, \"val.csv\"), header=0, delimiter=\",\")\n",
    "test_data = pd.read_csv(os.path.join(root_data_path, \"test.csv\"), header=0, delimiter=\",\")"
   ]
  },
  {
   "cell_type": "markdown",
   "metadata": {
    "id": "XmG3KkEPG35W"
   },
   "source": [
    "#### Checkhing some training and validation data"
   ]
  },
  {
   "cell_type": "code",
   "execution_count": 7,
   "metadata": {
    "colab": {
     "base_uri": "https://localhost:8080/",
     "height": 206
    },
    "id": "_DuMyecJBkFX",
    "outputId": "086c462e-2796-46ea-d15c-96bfda840e09"
   },
   "outputs": [
    {
     "data": {
      "text/html": [
       "<div>\n",
       "<style scoped>\n",
       "    .dataframe tbody tr th:only-of-type {\n",
       "        vertical-align: middle;\n",
       "    }\n",
       "\n",
       "    .dataframe tbody tr th {\n",
       "        vertical-align: top;\n",
       "    }\n",
       "\n",
       "    .dataframe thead th {\n",
       "        text-align: right;\n",
       "    }\n",
       "</style>\n",
       "<table border=\"1\" class=\"dataframe\">\n",
       "  <thead>\n",
       "    <tr style=\"text-align: right;\">\n",
       "      <th></th>\n",
       "      <th>Id</th>\n",
       "      <th>Text</th>\n",
       "      <th>Tags</th>\n",
       "    </tr>\n",
       "  </thead>\n",
       "  <tbody>\n",
       "    <tr>\n",
       "      <th>0</th>\n",
       "      <td>6589</td>\n",
       "      <td>Operations Manager Operations &lt;span class=\"hl\"...</td>\n",
       "      <td>['Software_Developer']</td>\n",
       "    </tr>\n",
       "    <tr>\n",
       "      <th>1</th>\n",
       "      <td>15618</td>\n",
       "      <td>Network Administratoir &lt;span class=\"hl\"&gt;Networ...</td>\n",
       "      <td>['Network_Administrator']</td>\n",
       "    </tr>\n",
       "    <tr>\n",
       "      <th>2</th>\n",
       "      <td>6751</td>\n",
       "      <td>IT Delivery Manager &lt;span class=\"hl\"&gt;IT&lt;/span&gt;...</td>\n",
       "      <td>['Project_manager']</td>\n",
       "    </tr>\n",
       "    <tr>\n",
       "      <th>3</th>\n",
       "      <td>29164</td>\n",
       "      <td>Web Developer &lt;span class=\"hl\"&gt;Web&lt;/span&gt; &lt;spa...</td>\n",
       "      <td>['Web_Developer', 'Software_Developer']</td>\n",
       "    </tr>\n",
       "    <tr>\n",
       "      <th>4</th>\n",
       "      <td>3288</td>\n",
       "      <td>Self-Employed Self-Employed Self-Employed - Se...</td>\n",
       "      <td>['Web_Developer', 'Software_Developer', 'Front...</td>\n",
       "    </tr>\n",
       "  </tbody>\n",
       "</table>\n",
       "</div>"
      ],
      "text/plain": [
       "      Id                                               Text  \\\n",
       "0   6589  Operations Manager Operations <span class=\"hl\"...   \n",
       "1  15618  Network Administratoir <span class=\"hl\">Networ...   \n",
       "2   6751  IT Delivery Manager <span class=\"hl\">IT</span>...   \n",
       "3  29164  Web Developer <span class=\"hl\">Web</span> <spa...   \n",
       "4   3288  Self-Employed Self-Employed Self-Employed - Se...   \n",
       "\n",
       "                                                Tags  \n",
       "0                             ['Software_Developer']  \n",
       "1                          ['Network_Administrator']  \n",
       "2                                ['Project_manager']  \n",
       "3            ['Web_Developer', 'Software_Developer']  \n",
       "4  ['Web_Developer', 'Software_Developer', 'Front...  "
      ]
     },
     "execution_count": 7,
     "metadata": {},
     "output_type": "execute_result"
    }
   ],
   "source": [
    "train_data.head(5)"
   ]
  },
  {
   "cell_type": "code",
   "execution_count": 8,
   "metadata": {},
   "outputs": [
    {
     "data": {
      "text/html": [
       "<div>\n",
       "<style scoped>\n",
       "    .dataframe tbody tr th:only-of-type {\n",
       "        vertical-align: middle;\n",
       "    }\n",
       "\n",
       "    .dataframe tbody tr th {\n",
       "        vertical-align: top;\n",
       "    }\n",
       "\n",
       "    .dataframe thead th {\n",
       "        text-align: right;\n",
       "    }\n",
       "</style>\n",
       "<table border=\"1\" class=\"dataframe\">\n",
       "  <thead>\n",
       "    <tr style=\"text-align: right;\">\n",
       "      <th></th>\n",
       "      <th>Id</th>\n",
       "      <th>Text</th>\n",
       "      <th>Tags</th>\n",
       "    </tr>\n",
       "  </thead>\n",
       "  <tbody>\n",
       "    <tr>\n",
       "      <th>0</th>\n",
       "      <td>4453</td>\n",
       "      <td>Freelance Web Developer &amp; Graphic Designer Fre...</td>\n",
       "      <td>['Web_Developer', 'Software_Developer']</td>\n",
       "    </tr>\n",
       "    <tr>\n",
       "      <th>1</th>\n",
       "      <td>7144</td>\n",
       "      <td>IT Project Manager &lt;span class=\"hl\"&gt;IT&lt;/span&gt; ...</td>\n",
       "      <td>['Project_manager']</td>\n",
       "    </tr>\n",
       "    <tr>\n",
       "      <th>2</th>\n",
       "      <td>3891</td>\n",
       "      <td>iOS SOFTWARE ENGINEER iOS SOFTWARE ENGINEER iO...</td>\n",
       "      <td>['Software_Developer', 'Front_End_Developer']</td>\n",
       "    </tr>\n",
       "    <tr>\n",
       "      <th>3</th>\n",
       "      <td>7374</td>\n",
       "      <td>Senior Project Manager Senior &lt;span class=\"hl\"...</td>\n",
       "      <td>['Project_manager']</td>\n",
       "    </tr>\n",
       "    <tr>\n",
       "      <th>4</th>\n",
       "      <td>28916</td>\n",
       "      <td>Senior Web Consultant Senior &lt;span class=\"hl\"&gt;...</td>\n",
       "      <td>[]</td>\n",
       "    </tr>\n",
       "  </tbody>\n",
       "</table>\n",
       "</div>"
      ],
      "text/plain": [
       "      Id                                               Text  \\\n",
       "0   4453  Freelance Web Developer & Graphic Designer Fre...   \n",
       "1   7144  IT Project Manager <span class=\"hl\">IT</span> ...   \n",
       "2   3891  iOS SOFTWARE ENGINEER iOS SOFTWARE ENGINEER iO...   \n",
       "3   7374  Senior Project Manager Senior <span class=\"hl\"...   \n",
       "4  28916  Senior Web Consultant Senior <span class=\"hl\">...   \n",
       "\n",
       "                                            Tags  \n",
       "0        ['Web_Developer', 'Software_Developer']  \n",
       "1                            ['Project_manager']  \n",
       "2  ['Software_Developer', 'Front_End_Developer']  \n",
       "3                            ['Project_manager']  \n",
       "4                                             []  "
      ]
     },
     "execution_count": 8,
     "metadata": {},
     "output_type": "execute_result"
    }
   ],
   "source": [
    "val_data.head(5)"
   ]
  },
  {
   "cell_type": "markdown",
   "metadata": {
    "id": "8uCbkguiG7ib"
   },
   "source": [
    "#### Checking some testing data"
   ]
  },
  {
   "cell_type": "code",
   "execution_count": 9,
   "metadata": {
    "colab": {
     "base_uri": "https://localhost:8080/",
     "height": 206
    },
    "id": "rAFfWOdABnsX",
    "outputId": "653c04d6-f220-41e4-f91f-daa026f8aee6"
   },
   "outputs": [
    {
     "data": {
      "text/html": [
       "<div>\n",
       "<style scoped>\n",
       "    .dataframe tbody tr th:only-of-type {\n",
       "        vertical-align: middle;\n",
       "    }\n",
       "\n",
       "    .dataframe tbody tr th {\n",
       "        vertical-align: top;\n",
       "    }\n",
       "\n",
       "    .dataframe thead th {\n",
       "        text-align: right;\n",
       "    }\n",
       "</style>\n",
       "<table border=\"1\" class=\"dataframe\">\n",
       "  <thead>\n",
       "    <tr style=\"text-align: right;\">\n",
       "      <th></th>\n",
       "      <th>Id</th>\n",
       "      <th>Text</th>\n",
       "      <th>Tags</th>\n",
       "    </tr>\n",
       "  </thead>\n",
       "  <tbody>\n",
       "    <tr>\n",
       "      <th>0</th>\n",
       "      <td>4911</td>\n",
       "      <td>Front End Web Developer &lt;span class=\"hl\"&gt;Front...</td>\n",
       "      <td>['Web_Developer', 'Software_Developer', 'Front...</td>\n",
       "    </tr>\n",
       "    <tr>\n",
       "      <th>1</th>\n",
       "      <td>22728</td>\n",
       "      <td>Data Scientist Data Scientist Looking for job ...</td>\n",
       "      <td>['Python_Developer', 'Software_Developer']</td>\n",
       "    </tr>\n",
       "    <tr>\n",
       "      <th>2</th>\n",
       "      <td>19906</td>\n",
       "      <td>Teaching Associate (Part time) Teaching Associ...</td>\n",
       "      <td>['Python_Developer', 'Software_Developer', 'We...</td>\n",
       "    </tr>\n",
       "    <tr>\n",
       "      <th>3</th>\n",
       "      <td>3599</td>\n",
       "      <td>Front End Developer Internship &lt;span class=\"hl...</td>\n",
       "      <td>['Software_Developer', 'Front_End_Developer']</td>\n",
       "    </tr>\n",
       "    <tr>\n",
       "      <th>4</th>\n",
       "      <td>18293</td>\n",
       "      <td>Python Tutor &lt;span class=\"hl\"&gt;Python&lt;/span&gt; Tu...</td>\n",
       "      <td>['Software_Developer', 'Web_Developer']</td>\n",
       "    </tr>\n",
       "  </tbody>\n",
       "</table>\n",
       "</div>"
      ],
      "text/plain": [
       "      Id                                               Text  \\\n",
       "0   4911  Front End Web Developer <span class=\"hl\">Front...   \n",
       "1  22728  Data Scientist Data Scientist Looking for job ...   \n",
       "2  19906  Teaching Associate (Part time) Teaching Associ...   \n",
       "3   3599  Front End Developer Internship <span class=\"hl...   \n",
       "4  18293  Python Tutor <span class=\"hl\">Python</span> Tu...   \n",
       "\n",
       "                                                Tags  \n",
       "0  ['Web_Developer', 'Software_Developer', 'Front...  \n",
       "1         ['Python_Developer', 'Software_Developer']  \n",
       "2  ['Python_Developer', 'Software_Developer', 'We...  \n",
       "3      ['Software_Developer', 'Front_End_Developer']  \n",
       "4            ['Software_Developer', 'Web_Developer']  "
      ]
     },
     "execution_count": 9,
     "metadata": {},
     "output_type": "execute_result"
    }
   ],
   "source": [
    "test_data.head(5)"
   ]
  },
  {
   "cell_type": "markdown",
   "metadata": {
    "id": "iE-qPzpP7cEF"
   },
   "source": [
    "#### Initializing random seed values to stabilize the outcomes."
   ]
  },
  {
   "cell_type": "code",
   "execution_count": 10,
   "metadata": {
    "id": "zqdQ7gWJHRYb"
   },
   "outputs": [],
   "source": [
    "rn.seed(321)\n",
    "np.random.seed(321)\n",
    "torch.manual_seed(321)\n",
    "torch.cuda.manual_seed(321)"
   ]
  },
  {
   "cell_type": "markdown",
   "metadata": {
    "id": "BCSOE7Xi7oZv"
   },
   "source": [
    "#### Experimenting with train, validation, and testset \n",
    "**Probably** with a small subset to avoid memory overflow. But, if you have larger computational resources (GPU), you can use whole dataset"
   ]
  },
  {
   "cell_type": "code",
   "execution_count": 11,
   "metadata": {
    "id": "8_Ry5KucMIHI"
   },
   "outputs": [],
   "source": [
    "train_subset = train_data\n",
    "validation_subset = val_data\n",
    "test_subset = test_data\n",
    "\n",
    "#train_subset = train_data[:500]\n",
    "#validation_subset = val_data[:500]\n",
    "#test_subset = test_data[:500]"
   ]
  },
  {
   "cell_type": "markdown",
   "metadata": {
    "id": "OmnVpcwc7vi-"
   },
   "source": [
    "#### Separating the data (review texts) and their Labels"
   ]
  },
  {
   "cell_type": "code",
   "execution_count": 12,
   "metadata": {
    "id": "VChHfqBpqA2N"
   },
   "outputs": [],
   "source": [
    "train_texts, train_labels = train_subset['Text'], train_subset['Tags']\n",
    "validation_texts, validation_labels = validation_subset['Text'], validation_subset['Tags']\n",
    "test_texts, test_labels = test_subset['Text'], test_subset['Tags']"
   ]
  },
  {
   "cell_type": "code",
   "execution_count": 13,
   "metadata": {},
   "outputs": [
    {
     "data": {
      "text/plain": [
       "0    Operations Manager Operations <span class=\"hl\"...\n",
       "1    Network Administratoir <span class=\"hl\">Networ...\n",
       "2    IT Delivery Manager <span class=\"hl\">IT</span>...\n",
       "3    Web Developer <span class=\"hl\">Web</span> <spa...\n",
       "4    Self-Employed Self-Employed Self-Employed - Se...\n",
       "Name: Text, dtype: object"
      ]
     },
     "execution_count": 13,
     "metadata": {},
     "output_type": "execute_result"
    }
   ],
   "source": [
    "train_texts[:5]"
   ]
  },
  {
   "cell_type": "markdown",
   "metadata": {},
   "source": [
    "Ok, train\\_texts are in pandas and not clean. There are a lot of artifacts, like html tags"
   ]
  },
  {
   "cell_type": "code",
   "execution_count": 14,
   "metadata": {},
   "outputs": [
    {
     "data": {
      "text/plain": [
       "0                               ['Software_Developer']\n",
       "1                            ['Network_Administrator']\n",
       "2                                  ['Project_manager']\n",
       "3              ['Web_Developer', 'Software_Developer']\n",
       "4    ['Web_Developer', 'Software_Developer', 'Front...\n",
       "Name: Tags, dtype: object"
      ]
     },
     "execution_count": 14,
     "metadata": {},
     "output_type": "execute_result"
    }
   ],
   "source": [
    "train_labels[:5]"
   ]
  },
  {
   "cell_type": "markdown",
   "metadata": {},
   "source": [
    "Two problems here: </br>\n",
    " **Multiple labels** for each sample</br>\n",
    " **Labels** are in string of list format</br>\n",
    "We have to solve these two problems, convert the string of list to list format and binarized the multilabel of samples"
   ]
  },
  {
   "cell_type": "markdown",
   "metadata": {},
   "source": [
    "#### Encoding labels of train, validation, and test set\n",
    "**Converting** string of list to list using *literal_eval* function. </br>\n",
    "Using MultiLabelBinarizer to encode the multiclass multilabel target\n"
   ]
  },
  {
   "cell_type": "code",
   "execution_count": 15,
   "metadata": {},
   "outputs": [],
   "source": [
    "train_labels = [literal_eval(labels) for labels in train_labels]\n",
    "validation_labels = [literal_eval(labels) for labels in validation_labels]\n",
    "test_labels = [literal_eval(labels) for labels in test_labels]"
   ]
  },
  {
   "cell_type": "markdown",
   "metadata": {},
   "source": [
    "Fitting the MultiLabelBinarizer on the train subset labels"
   ]
  },
  {
   "cell_type": "code",
   "execution_count": 16,
   "metadata": {},
   "outputs": [
    {
     "data": {
      "text/plain": [
       "MultiLabelBinarizer()"
      ]
     },
     "execution_count": 16,
     "metadata": {},
     "output_type": "execute_result"
    }
   ],
   "source": [
    "multilabel_binarizer = MultiLabelBinarizer()\n",
    "multilabel_binarizer.fit(train_labels)"
   ]
  },
  {
   "cell_type": "code",
   "execution_count": 17,
   "metadata": {},
   "outputs": [
    {
     "name": "stdout",
     "output_type": "stream",
     "text": [
      "['Database_Administrator' 'Front_End_Developer' 'Java_Developer'\n",
      " 'Network_Administrator' 'Project_manager' 'Python_Developer'\n",
      " 'Security_Analyst' 'Software_Developer' 'Systems_Administrator'\n",
      " 'Web_Developer']\n"
     ]
    }
   ],
   "source": [
    "print (multilabel_binarizer.classes_)"
   ]
  },
  {
   "cell_type": "code",
   "execution_count": 18,
   "metadata": {},
   "outputs": [],
   "source": [
    "train_labels_binarized = multilabel_binarizer.transform(train_labels)\n",
    "validation_labels_binarized = multilabel_binarizer.transform(validation_labels)\n",
    "test_labels_binarized = multilabel_binarizer.transform(test_labels)"
   ]
  },
  {
   "cell_type": "code",
   "execution_count": 19,
   "metadata": {},
   "outputs": [
    {
     "data": {
      "text/plain": [
       "array([[0, 0, 0, 0, 0, 0, 0, 1, 0, 0],\n",
       "       [0, 0, 0, 1, 0, 0, 0, 0, 0, 0],\n",
       "       [0, 0, 0, 0, 1, 0, 0, 0, 0, 0],\n",
       "       [0, 0, 0, 0, 0, 0, 0, 1, 0, 1],\n",
       "       [0, 1, 0, 0, 0, 0, 0, 1, 0, 1]])"
      ]
     },
     "execution_count": 19,
     "metadata": {},
     "output_type": "execute_result"
    }
   ],
   "source": [
    "train_labels_binarized[:5]"
   ]
  },
  {
   "cell_type": "code",
   "execution_count": 20,
   "metadata": {},
   "outputs": [
    {
     "data": {
      "text/plain": [
       "array([[0, 0, 0, 0, 0, 0, 0, 1, 0, 1],\n",
       "       [0, 0, 0, 0, 1, 0, 0, 0, 0, 0],\n",
       "       [0, 1, 0, 0, 0, 0, 0, 1, 0, 0],\n",
       "       [0, 0, 0, 0, 1, 0, 0, 0, 0, 0],\n",
       "       [0, 0, 0, 0, 0, 0, 0, 0, 0, 0]])"
      ]
     },
     "execution_count": 20,
     "metadata": {},
     "output_type": "execute_result"
    }
   ],
   "source": [
    "validation_labels_binarized[:5]"
   ]
  },
  {
   "cell_type": "code",
   "execution_count": 21,
   "metadata": {},
   "outputs": [
    {
     "data": {
      "text/plain": [
       "array([[0, 1, 0, 0, 0, 0, 0, 1, 0, 1],\n",
       "       [0, 0, 0, 0, 0, 1, 0, 1, 0, 0],\n",
       "       [0, 0, 0, 0, 0, 1, 0, 1, 0, 1],\n",
       "       [0, 1, 0, 0, 0, 0, 0, 1, 0, 0],\n",
       "       [0, 0, 0, 0, 0, 0, 0, 1, 0, 1]])"
      ]
     },
     "execution_count": 21,
     "metadata": {},
     "output_type": "execute_result"
    }
   ],
   "source": [
    "test_labels_binarized[:5]"
   ]
  },
  {
   "cell_type": "code",
   "execution_count": 22,
   "metadata": {},
   "outputs": [
    {
     "data": {
      "text/plain": [
       "[('Software_Developer',),\n",
       " ('Network_Administrator',),\n",
       " ('Project_manager',),\n",
       " ('Software_Developer', 'Web_Developer'),\n",
       " ('Front_End_Developer', 'Software_Developer', 'Web_Developer')]"
      ]
     },
     "execution_count": 22,
     "metadata": {},
     "output_type": "execute_result"
    }
   ],
   "source": [
    "multilabel_binarizer.inverse_transform(train_labels_binarized[:5])"
   ]
  },
  {
   "cell_type": "markdown",
   "metadata": {
    "id": "iOzLUIJyHM-E"
   },
   "source": [
    "#### Checking the size of the datasets (train, validation, test) "
   ]
  },
  {
   "cell_type": "code",
   "execution_count": 23,
   "metadata": {
    "colab": {
     "base_uri": "https://localhost:8080/"
    },
    "id": "BoQ8gj2sC0CI",
    "outputId": "f56557db-b367-4c8a-afc1-7c3c3807c10a"
   },
   "outputs": [
    {
     "data": {
      "text/plain": [
       "(17870, 17870, 5957, 5957, 5956, 5956)"
      ]
     },
     "execution_count": 23,
     "metadata": {},
     "output_type": "execute_result"
    }
   ],
   "source": [
    "len(train_texts), len(train_labels_binarized), len(validation_texts), len(validation_labels_binarized), len(test_texts), len(test_labels_binarized)"
   ]
  },
  {
   "cell_type": "markdown",
   "metadata": {
    "id": "BJr3wdoH74Wh"
   },
   "source": [
    "#### Visualizing number of tokens in train, validation, and test sets"
   ]
  },
  {
   "cell_type": "code",
   "execution_count": 302,
   "metadata": {
    "colab": {
     "base_uri": "https://localhost:8080/",
     "height": 487
    },
    "id": "HnrWd0aNtijF",
    "outputId": "f9168dbf-1147-46f0-9039-6a02dd58aa3c"
   },
   "outputs": [
    {
     "name": "stderr",
     "output_type": "stream",
     "text": [
      "Token indices sequence length is longer than the specified maximum sequence length for this model (1367 > 512). Running this sequence through the model will result in indexing errors\n"
     ]
    },
    {
     "data": {
      "image/png": "[encoded data removed]",
      "text/plain": [
       "<Figure size 700x500 with 1 Axes>"
      ]
     },
     "metadata": {
      "needs_background": "light"
     },
     "output_type": "display_data"
    }
   ],
   "source": [
    "#Train set\n",
    "\n",
    "sentences = [len(tokenizer.tokenize(sent)) for sent in train_texts]\n",
    "plt.rcParams.update({'figure.figsize':(7,5), 'figure.dpi':100})\n",
    "plt.bar(range(1, len(sentences)+1), sentences, color = ['red'])\n",
    "plt.gca().set(title='Train set', xlabel=\"Number of samples\", ylabel=\"Number of tokens (by Bert's tokenizer)\");"
   ]
  },
  {
   "cell_type": "code",
   "execution_count": 303,
   "metadata": {},
   "outputs": [],
   "source": [
    "#Validation set\n",
    "#sentences = [len(tokenizer.tokenize(sent)) for sent in validation_texts]\n",
    "#plt.rcParams.update({'figure.figsize':(7,5), 'figure.dpi':100})\n",
    "#plt.bar(range(1, len(sentences)+1), sentences, color = ['red'])\n",
    "#plt.gca().set(title='Validation set', xlabel=\"Number of samples\", ylabel=\"Number of tokens (by Bert's tokenizer)\");"
   ]
  },
  {
   "cell_type": "code",
   "execution_count": 304,
   "metadata": {},
   "outputs": [],
   "source": [
    "#Test set\n",
    "#sentences = [len(tokenizer.tokenize(sent)) for sent in test_texts]\n",
    "#plt.rcParams.update({'figure.figsize':(7,5), 'figure.dpi':100})\n",
    "#plt.bar(range(1, len(sentences)+1), sentences, color = ['red'])\n",
    "#plt.gca().set(title='Test set', xlabel=\"Number of samples\", ylabel=\"Number of tokens (by Bert's tokenizer)\");"
   ]
  },
  {
   "cell_type": "markdown",
   "metadata": {
    "id": "IFIzx9Ch8A1v"
   },
   "source": [
    "#### Tokenize and Encoding\n",
    "Token embedding, Attention, and Positional encoding"
   ]
  },
  {
   "cell_type": "code",
   "execution_count": 24,
   "metadata": {
    "id": "LkAXkGmo9Ly2"
   },
   "outputs": [],
   "source": [
    "# tokenize and encode sequences in the training set\n",
    "tokens_train = tokenizer.batch_encode_plus(\n",
    "    train_texts.tolist(),\n",
    "    max_length = MAX_TOKENS, #keeping the maximum number of tokens to be 128\n",
    "    padding=True,\n",
    "    truncation=True\n",
    ")\n",
    "\n",
    "# tokenize and encode sequences in the validation set\n",
    "tokens_val = tokenizer.batch_encode_plus(\n",
    "    validation_texts.tolist(),\n",
    "    max_length = MAX_TOKENS, #keeping the maximum number of tokens to be 128\n",
    "    padding=True,\n",
    "    truncation=True\n",
    ")\n",
    "\n",
    "# tokenize and encode sequences in the test set\n",
    "tokens_test = tokenizer.batch_encode_plus(\n",
    "    test_texts.tolist(),\n",
    "    max_length = MAX_TOKENS,\n",
    "    padding=True,\n",
    "    truncation=True\n",
    ")"
   ]
  },
  {
   "cell_type": "markdown",
   "metadata": {},
   "source": [
    "#### Looking up the Token sequence, Mask, and Labels"
   ]
  },
  {
   "cell_type": "code",
   "execution_count": 25,
   "metadata": {
    "id": "SkMWq1Ui-ZiO"
   },
   "outputs": [],
   "source": [
    "train_sequence = torch.tensor(tokens_train['input_ids'])\n",
    "train_mask = torch.tensor(tokens_train['attention_mask'])\n",
    "#train_y = torch.tensor(np.array(train_labels).reshape(-1, 1)).float()\n",
    "train_y = torch.tensor(train_labels_binarized.tolist(), dtype=torch.float32)\n",
    "\n",
    "val_sequence = torch.tensor(tokens_val['input_ids'])\n",
    "val_mask = torch.tensor(tokens_val['attention_mask'])\n",
    "#val_y = torch.tensor(np.array(validation_labels).reshape(-1, 1)).float()\n",
    "val_y = torch.tensor(validation_labels_binarized.tolist(), dtype=torch.float32)\n",
    "\n",
    "test_sequence = torch.tensor(tokens_test['input_ids'])\n",
    "test_mask = torch.tensor(tokens_test['attention_mask'])\n",
    "#test_y = torch.tensor(np.array(test_labels).reshape(-1, 1)).float()\n",
    "test_y = torch.tensor(test_labels_binarized, dtype=torch.float32)"
   ]
  },
  {
   "cell_type": "markdown",
   "metadata": {},
   "source": [
    "#### Setting Up Data Loader\n",
    "**Random sampler** for train set and **Sequential sampler** for validation and test sets."
   ]
  },
  {
   "cell_type": "code",
   "execution_count": 26,
   "metadata": {
    "id": "soS3Ij7k_J7N"
   },
   "outputs": [],
   "source": [
    "#training set\n",
    "#wrap tensors\n",
    "train_tensor_data = TensorDataset(train_sequence, train_mask, train_y)\n",
    "#sampler for sampling the data during training\n",
    "train_sampler = RandomSampler(train_tensor_data)\n",
    "#dataLoader for train set\n",
    "train_dataloader = DataLoader(train_tensor_data, sampler=train_sampler, batch_size=BATCH_SIZE)\n",
    "\n",
    "#validation set\n",
    "#wrap tensors\n",
    "val_tensor_data = TensorDataset(val_sequence, val_mask, val_y)\n",
    "#sampler for sampling the data during training\n",
    "val_sampler = SequentialSampler(val_tensor_data)\n",
    "#dataLoader for validation set\n",
    "val_dataloader = DataLoader(val_tensor_data, sampler = val_sampler, batch_size=BATCH_SIZE)\n",
    "\n",
    "#testing set\n",
    "#wrap tensors\n",
    "test_tensor_data = TensorDataset(test_sequence, test_mask, test_y)\n",
    "#sampler for sampling the data during training\n",
    "test_sampler = SequentialSampler(test_tensor_data)\n",
    "#dataLoader for validation set\n",
    "test_dataloader = DataLoader(test_tensor_data, sampler = test_sampler, batch_size=BATCH_SIZE)"
   ]
  },
  {
   "cell_type": "markdown",
   "metadata": {
    "id": "jSifMC-nJ6Em"
   },
   "source": [
    "### BERT Multiclass Classification"
   ]
  },
  {
   "cell_type": "markdown",
   "metadata": {},
   "source": [
    "#### Freeze all the parameters in bert pre-trained model"
   ]
  },
  {
   "cell_type": "code",
   "execution_count": 27,
   "metadata": {
    "id": "0qw0sNHZn8eG"
   },
   "outputs": [],
   "source": [
    "for param in bert.parameters():\n",
    "    param.requires_grad = False"
   ]
  },
  {
   "cell_type": "markdown",
   "metadata": {},
   "source": [
    "#### Adding Labers on BERT Architecture for fine-tuning"
   ]
  },
  {
   "cell_type": "code",
   "execution_count": 28,
   "metadata": {
    "id": "I1vGo0oIJ8YG"
   },
   "outputs": [],
   "source": [
    "class BertMultiClassClassifier(nn.Module):\n",
    "    def __init__(self, bert):\n",
    "      super(BertMultiClassClassifier, self).__init__()\n",
    "      self.bert = bert\n",
    "      self.dropout = nn.Dropout(0.1) # dropout layer\n",
    "      self.relu =  nn.ReLU() # relu activation function\n",
    "      #self.fc = nn.Linear(768, len(multilabel_binarizer.classes_)) # dense layer-2 (Output layer      \n",
    "      self.fc1 = nn.Linear(768, 512) # dense layer 1\n",
    "      self.fc2 = nn.Linear(512, 256) # dense layer-2 (Output layer)  \n",
    "      self.fc3 = nn.Linear(256, len(multilabel_binarizer.classes_)) # dense layer-2 (Output layer)\n",
    "      #self.softmax = nn.LogSoftmax(dim=1) # softmax activation function\n",
    "\n",
    "    def forward(self, sent_id, mask):\n",
    "      _, cls_hs = self.bert(sent_id, attention_mask=mask, return_dict=False) # pass the inputs to the model\n",
    "      #x = self.fc(cls_hs)\n",
    "      x = self.fc1(cls_hs)\n",
    "      x = self.relu(x)\n",
    "      x = self.dropout(x)\n",
    "      x = self.fc2(x) # output layer\n",
    "      x = self.fc3(x) # output layer\n",
    "      #x = self.softmax(x) # apply softmax activation\n",
    "\n",
    "      return x"
   ]
  },
  {
   "cell_type": "markdown",
   "metadata": {},
   "source": [
    "#### Instantiating Bert Classifier with added layers"
   ]
  },
  {
   "cell_type": "code",
   "execution_count": 29,
   "metadata": {
    "id": "Fo-iFoRcMu1H"
   },
   "outputs": [],
   "source": [
    "bert_classifier = BertMultiClassClassifier(bert)\n",
    "bert_classifier = bert_classifier.to(device) #push it to the device"
   ]
  },
  {
   "cell_type": "markdown",
   "metadata": {
    "id": "uMhttlnTMFHf",
    "tags": []
   },
   "source": [
    "#### Fine-tuning BERT on training dataset"
   ]
  },
  {
   "cell_type": "markdown",
   "metadata": {
    "tags": []
   },
   "source": [
    "##### Setting up the optimizer and loss function\n",
    "**Adam** and **Negative log likelihood loss**"
   ]
  },
  {
   "cell_type": "code",
   "execution_count": 30,
   "metadata": {
    "id": "6ssZZLE8My5_"
   },
   "outputs": [],
   "source": [
    "#optimizer = Adam(bert_classifier.parameters(), lr = 1e-5)\n",
    "optimizer = AdamW(bert_classifier.parameters(), lr = 1e-5)"
   ]
  },
  {
   "cell_type": "code",
   "execution_count": 31,
   "metadata": {},
   "outputs": [],
   "source": [
    "#loss_func  = nn.NLLLoss()\n",
    "#loss_func = nn.BCEWithLogitsLoss()\n",
    "loss_func = nn.BCELoss()"
   ]
  },
  {
   "cell_type": "markdown",
   "metadata": {},
   "source": [
    "#### Fine-tuning the bert classifier on training dataset"
   ]
  },
  {
   "cell_type": "code",
   "execution_count": 32,
   "metadata": {
    "colab": {
     "base_uri": "https://localhost:8080/"
    },
    "id": "LbAIO8muM1kR",
    "outputId": "aa4c0cf7-cdcc-4bc2-9b38-b440e14cb69c",
    "tags": []
   },
   "outputs": [
    {
     "data": {
      "application/vnd.jupyter.widget-view+json": {
       "model_id": "bfefe3d1a25f4e78a1eb57983adc8958",
       "version_major": 2,
       "version_minor": 0
      },
      "text/plain": [
       "HBox(children=(FloatProgress(value=0.0, max=559.0), HTML(value='')))"
      ]
     },
     "metadata": {},
     "output_type": "display_data"
    },
    {
     "name": "stdout",
     "output_type": "stream",
     "text": [
      "\n",
      "Epoch:  1\n",
      "558/557 loss: 0.4696146368660526 \n",
      "Accuracy on training set: 0.8185618354784555\n",
      "                        precision    recall  f1-score   support\n",
      "\n",
      "Database_Administrator       0.00      0.00      0.00      1992\n",
      "   Front_End_Developer       0.00      0.00      0.00      2398\n",
      "        Java_Developer       0.13      0.01      0.01      1942\n",
      " Network_Administrator       0.00      0.00      0.00      2596\n",
      "       Project_manager       0.14      0.01      0.02      2768\n",
      "      Python_Developer       0.09      0.05      0.06      1682\n",
      "      Security_Analyst       0.07      0.01      0.02      1788\n",
      "    Software_Developer       0.52      0.85      0.65      8987\n",
      " Systems_Administrator       0.17      0.02      0.04      3580\n",
      "         Web_Developer       0.16      0.00      0.00      3946\n",
      "\n",
      "             micro avg       0.48      0.25      0.33     31679\n",
      "             macro avg       0.13      0.09      0.08     31679\n",
      "          weighted avg       0.22      0.25      0.19     31679\n",
      "           samples avg       0.42      0.22      0.28     31679\n",
      "\n"
     ]
    },
    {
     "data": {
      "application/vnd.jupyter.widget-view+json": {
       "model_id": "c93c2aff439d458a80db3d475af4c328",
       "version_major": 2,
       "version_minor": 0
      },
      "text/plain": [
       "HBox(children=(FloatProgress(value=0.0, max=559.0), HTML(value='')))"
      ]
     },
     "metadata": {},
     "output_type": "display_data"
    },
    {
     "name": "stdout",
     "output_type": "stream",
     "text": [
      "\n",
      "Epoch:  2\n",
      "558/557 loss: 0.42632545490810825 \n",
      "Accuracy on training set: 0.8342921096810296\n",
      "                        precision    recall  f1-score   support\n",
      "\n",
      "Database_Administrator       0.00      0.00      0.00      1992\n",
      "   Front_End_Developer       0.00      0.00      0.00      2398\n",
      "        Java_Developer       0.00      0.00      0.00      1942\n",
      " Network_Administrator       0.00      0.00      0.00      2596\n",
      "       Project_manager       0.00      0.00      0.00      2768\n",
      "      Python_Developer       0.00      0.00      0.00      1682\n",
      "      Security_Analyst       0.00      0.00      0.00      1788\n",
      "    Software_Developer       0.61      0.65      0.63      8987\n",
      " Systems_Administrator       0.20      0.00      0.00      3580\n",
      "         Web_Developer       0.00      0.00      0.00      3946\n",
      "\n",
      "             micro avg       0.61      0.18      0.28     31679\n",
      "             macro avg       0.08      0.06      0.06     31679\n",
      "          weighted avg       0.20      0.18      0.18     31679\n",
      "           samples avg       0.33      0.16      0.21     31679\n",
      "\n"
     ]
    },
    {
     "data": {
      "application/vnd.jupyter.widget-view+json": {
       "model_id": "70a435b59dd74da3b3968c0ed115ffa6",
       "version_major": 2,
       "version_minor": 0
      },
      "text/plain": [
       "HBox(children=(FloatProgress(value=0.0, max=559.0), HTML(value='')))"
      ]
     },
     "metadata": {},
     "output_type": "display_data"
    },
    {
     "name": "stdout",
     "output_type": "stream",
     "text": [
      "\n",
      "Epoch:  3\n",
      "558/557 loss: 0.41951148241278524 \n",
      "Accuracy on training set: 0.8373027420257415\n",
      "                        precision    recall  f1-score   support\n",
      "\n",
      "Database_Administrator       0.00      0.00      0.00      1992\n",
      "   Front_End_Developer       0.00      0.00      0.00      2398\n",
      "        Java_Developer       0.00      0.00      0.00      1942\n",
      " Network_Administrator       0.00      0.00      0.00      2596\n",
      "       Project_manager       0.00      0.00      0.00      2768\n",
      "      Python_Developer       0.00      0.00      0.00      1682\n",
      "      Security_Analyst       0.00      0.00      0.00      1788\n",
      "    Software_Developer       0.64      0.66      0.65      8987\n",
      " Systems_Administrator       0.00      0.00      0.00      3580\n",
      "         Web_Developer       0.00      0.00      0.00      3946\n",
      "\n",
      "             micro avg       0.64      0.19      0.29     31679\n",
      "             macro avg       0.06      0.07      0.06     31679\n",
      "          weighted avg       0.18      0.19      0.18     31679\n",
      "           samples avg       0.33      0.16      0.21     31679\n",
      "\n"
     ]
    },
    {
     "data": {
      "application/vnd.jupyter.widget-view+json": {
       "model_id": "0134b3981c5e478b9628b05fb8d01b0a",
       "version_major": 2,
       "version_minor": 0
      },
      "text/plain": [
       "HBox(children=(FloatProgress(value=0.0, max=559.0), HTML(value='')))"
      ]
     },
     "metadata": {},
     "output_type": "display_data"
    },
    {
     "name": "stdout",
     "output_type": "stream",
     "text": [
      "\n",
      "Epoch:  4\n",
      "558/557 loss: 0.41194062001590015 \n",
      "Accuracy on training set: 0.8409345271404589\n",
      "                        precision    recall  f1-score   support\n",
      "\n",
      "Database_Administrator       0.00      0.00      0.00      1992\n",
      "   Front_End_Developer       0.00      0.00      0.00      2398\n",
      "        Java_Developer       0.00      0.00      0.00      1942\n",
      " Network_Administrator       0.00      0.00      0.00      2596\n",
      "       Project_manager       0.00      0.00      0.00      2768\n",
      "      Python_Developer       0.00      0.00      0.00      1682\n",
      "      Security_Analyst       0.00      0.00      0.00      1788\n",
      "    Software_Developer       0.68      0.68      0.68      8987\n",
      " Systems_Administrator       0.00      0.00      0.00      3580\n",
      "         Web_Developer       0.00      0.00      0.00      3946\n",
      "\n",
      "             micro avg       0.68      0.19      0.30     31679\n",
      "             macro avg       0.07      0.07      0.07     31679\n",
      "          weighted avg       0.19      0.19      0.19     31679\n",
      "           samples avg       0.34      0.17      0.22     31679\n",
      "\n"
     ]
    },
    {
     "data": {
      "application/vnd.jupyter.widget-view+json": {
       "model_id": "a4f9b5441fd541f595fef1a66fa2c516",
       "version_major": 2,
       "version_minor": 0
      },
      "text/plain": [
       "HBox(children=(FloatProgress(value=0.0, max=559.0), HTML(value='')))"
      ]
     },
     "metadata": {},
     "output_type": "display_data"
    },
    {
     "name": "stdout",
     "output_type": "stream",
     "text": [
      "\n",
      "Epoch:  5\n",
      "558/557 loss: 0.40326321988711417 \n",
      "Accuracy on training set: 0.8447565752658086\n",
      "                        precision    recall  f1-score   support\n",
      "\n",
      "Database_Administrator       0.00      0.00      0.00      1992\n",
      "   Front_End_Developer       0.00      0.00      0.00      2398\n",
      "        Java_Developer       0.00      0.00      0.00      1942\n",
      " Network_Administrator       0.00      0.00      0.00      2596\n",
      "       Project_manager       0.00      0.00      0.00      2768\n",
      "      Python_Developer       0.00      0.00      0.00      1682\n",
      "      Security_Analyst       0.00      0.00      0.00      1788\n",
      "    Software_Developer       0.72      0.71      0.72      8987\n",
      " Systems_Administrator       0.00      0.00      0.00      3580\n",
      "         Web_Developer       0.00      0.00      0.00      3946\n",
      "\n",
      "             micro avg       0.72      0.20      0.31     31679\n",
      "             macro avg       0.07      0.07      0.07     31679\n",
      "          weighted avg       0.21      0.20      0.20     31679\n",
      "           samples avg       0.36      0.18      0.23     31679\n",
      "\n"
     ]
    }
   ],
   "source": [
    "for epoch_num in range(EPOCHS):\n",
    "    bert_classifier.train()\n",
    "    train_loss = 0\n",
    "    \n",
    "    train_predicted = []\n",
    "    train_labels = []\n",
    "    \n",
    "    correct_predictions = 0\n",
    "    num_samples = 0\n",
    "    \n",
    "    for step_num, batch_data in enumerate(tqdm(train_dataloader)):\n",
    "\n",
    "        token_ids, masks, labels = [t.to(device) for t in batch_data]\n",
    "        bert_classifier.zero_grad()\n",
    "\n",
    "        outputs = bert_classifier(token_ids, masks)\n",
    "        outputs_sigmoid = torch.sigmoid(outputs)    \n",
    "        batch_loss = loss_func(outputs_sigmoid, labels)\n",
    "        \n",
    "        #logits = bert_classifier(token_ids, masks)\n",
    "        #batch_loss = loss_func(logits, labels)\n",
    "        \n",
    "        train_loss += batch_loss.item()\n",
    "\n",
    "        batch_loss.backward()\n",
    "        clip_grad_norm_(parameters=bert_classifier.parameters(), max_norm=1.0)\n",
    "        optimizer.step()\n",
    "        \n",
    "        #pred_prob = torch.exp(logits) #to_probability\n",
    "        #pred_preds_np = pred_prob.detach().cpu().numpy()\n",
    "        #train_predicted += list(np.where(pred_preds_np[:, 1] > 0.5, 1, 0))\n",
    "        predictions = outputs_sigmoid.cpu().detach().numpy() #could be thresholded\n",
    "        targets = labels.cpu().detach().numpy()\n",
    "        \n",
    "        correct_predictions += np.sum(np.where(predictions>THRESHOLD, 1, 0) ==targets)\n",
    "        num_samples += targets.size   # total number of elements in the 2D array\n",
    "        \n",
    "        train_predicted.append(np.where(predictions>THRESHOLD, 1, 0))\n",
    "        train_labels.append(targets)\n",
    "        \n",
    "    train_pred = np.vstack(train_predicted)\n",
    "    train_true = np.vstack(train_labels)\n",
    "    \n",
    "    #clear_output(wait=True)\n",
    "    print('Epoch: ', epoch_num + 1)\n",
    "    print(\"\\r\" + \"{0}/{1} loss: {2} \".format(step_num, int(len(train_subset) / BATCH_SIZE) - 1, train_loss / (step_num + 1)))\n",
    "    \n",
    "    print (\"Accuracy on training set: {}\".format(float(correct_predictions)/num_samples))\n",
    "    print(classification_report(train_true, train_pred, target_names=multilabel_binarizer.classes_, zero_division=0))"
   ]
  },
  {
   "cell_type": "markdown",
   "metadata": {},
   "source": [
    "#### Prediction on train set"
   ]
  },
  {
   "cell_type": "code",
   "execution_count": 33,
   "metadata": {},
   "outputs": [
    {
     "name": "stdout",
     "output_type": "stream",
     "text": [
      "Accuracy on validation: 0.8447565752658086\n"
     ]
    }
   ],
   "source": [
    "print (\"Accuracy on validation: {}\".format(float(correct_predictions)/num_samples))"
   ]
  },
  {
   "cell_type": "code",
   "execution_count": 34,
   "metadata": {},
   "outputs": [
    {
     "name": "stdout",
     "output_type": "stream",
     "text": [
      "                        precision    recall  f1-score   support\n",
      "\n",
      "Database_Administrator       0.00      0.00      0.00      1992\n",
      "   Front_End_Developer       0.00      0.00      0.00      2398\n",
      "        Java_Developer       0.00      0.00      0.00      1942\n",
      " Network_Administrator       0.00      0.00      0.00      2596\n",
      "       Project_manager       0.00      0.00      0.00      2768\n",
      "      Python_Developer       0.00      0.00      0.00      1682\n",
      "      Security_Analyst       0.00      0.00      0.00      1788\n",
      "    Software_Developer       0.72      0.71      0.72      8987\n",
      " Systems_Administrator       0.00      0.00      0.00      3580\n",
      "         Web_Developer       0.00      0.00      0.00      3946\n",
      "\n",
      "             micro avg       0.72      0.20      0.31     31679\n",
      "             macro avg       0.07      0.07      0.07     31679\n",
      "          weighted avg       0.21      0.20      0.20     31679\n",
      "           samples avg       0.36      0.18      0.23     31679\n",
      "\n"
     ]
    }
   ],
   "source": [
    "print(classification_report(train_true, train_pred, target_names=multilabel_binarizer.classes_, zero_division=0))"
   ]
  },
  {
   "cell_type": "markdown",
   "metadata": {
    "id": "Z7N2I6l-ZHnz"
   },
   "source": [
    "#### Prediction on Validation set"
   ]
  },
  {
   "cell_type": "code",
   "execution_count": 271,
   "metadata": {
    "id": "aivXTh2zNDz2",
    "tags": []
   },
   "outputs": [
    {
     "data": {
      "application/vnd.jupyter.widget-view+json": {
       "model_id": "c97f481abb2e4e539dace2e7c599c569",
       "version_major": 2,
       "version_minor": 0
      },
      "text/plain": [
       "HBox(children=(FloatProgress(value=0.0, max=187.0), HTML(value='')))"
      ]
     },
     "metadata": {},
     "output_type": "display_data"
    },
    {
     "name": "stdout",
     "output_type": "stream",
     "text": [
      "\n"
     ]
    }
   ],
   "source": [
    "bert_classifier.eval()\n",
    "correct_predictions = 0\n",
    "num_samples = 0\n",
    "val_predicted = []\n",
    "val_labels = []\n",
    "    \n",
    "for step_num, batch_data in enumerate(tqdm(val_dataloader)):\n",
    "    token_ids, masks, labels = [t.to(device) for t in batch_data]\n",
    "    #token_ids, masks, labels = batch_data\n",
    "    \n",
    "    with torch.no_grad():\n",
    "        outputs = bert_classifier(token_ids, masks)\n",
    "        outputs_sigmoid = torch.sigmoid(outputs)\n",
    "        \n",
    "        #pred_prob = torch.exp(logits) #to_probability\n",
    "        #pred_preds_np = pred_prob.detach().cpu().numpy()\n",
    "\n",
    "        predictions = outputs_sigmoid.cpu().detach().numpy()\n",
    "        targets = labels.cpu().detach().numpy()\n",
    "        \n",
    "        correct_predictions += np.sum(np.where(predictions>THRESHOLD, 1, 0)==targets)\n",
    "        num_samples += targets.size   # total number of elements in the 2D array\n",
    "        \n",
    "        val_predicted.append(np.where(predictions>THRESHOLD, 1, 0))\n",
    "        val_labels.append(targets)\n",
    "        \n",
    "val_pred = np.vstack(val_predicted)\n",
    "val_true = np.vstack(val_labels)"
   ]
  },
  {
   "cell_type": "code",
   "execution_count": 272,
   "metadata": {},
   "outputs": [
    {
     "name": "stdout",
     "output_type": "stream",
     "text": [
      "Accuracy on validation: 0.8372838677186504\n"
     ]
    }
   ],
   "source": [
    "print (\"Accuracy on validation: {}\".format(float(correct_predictions)/num_samples))"
   ]
  },
  {
   "cell_type": "code",
   "execution_count": 273,
   "metadata": {
    "colab": {
     "base_uri": "https://localhost:8080/"
    },
    "id": "MQkCKly4NQle",
    "outputId": "f5b04a04-9b43-4f16-de74-fd74c98cf406"
   },
   "outputs": [
    {
     "name": "stdout",
     "output_type": "stream",
     "text": [
      "                        precision    recall  f1-score   support\n",
      "\n",
      "Database_Administrator       0.00      0.00      0.00       652\n",
      "   Front_End_Developer       0.00      0.00      0.00       782\n",
      "        Java_Developer       0.00      0.00      0.00       665\n",
      " Network_Administrator       0.14      0.00      0.00       913\n",
      "       Project_manager       0.75      0.00      0.01       883\n",
      "      Python_Developer       0.00      0.00      0.00       572\n",
      "      Security_Analyst       0.00      0.00      0.00       636\n",
      "    Software_Developer       0.66      0.66      0.66      3038\n",
      " Systems_Administrator       0.14      0.00      0.00      1165\n",
      "         Web_Developer       0.00      0.00      0.00      1348\n",
      "\n",
      "             micro avg       0.66      0.19      0.29     10654\n",
      "             macro avg       0.17      0.07      0.07     10654\n",
      "          weighted avg       0.28      0.19      0.19     10654\n",
      "           samples avg       0.34      0.17      0.22     10654\n",
      "\n"
     ]
    }
   ],
   "source": [
    "print(classification_report(val_true, val_pred, target_names=multilabel_binarizer.classes_, zero_division=0))"
   ]
  },
  {
   "cell_type": "markdown",
   "metadata": {
    "id": "eCMWmNuKO5H6"
   },
   "source": [
    "#### Prediction the sentiment of test dataset"
   ]
  },
  {
   "cell_type": "code",
   "execution_count": 274,
   "metadata": {
    "id": "VlSH7p2xOszP"
   },
   "outputs": [
    {
     "data": {
      "application/vnd.jupyter.widget-view+json": {
       "model_id": "cf7aa1bd60c9402c954de3dd194d5254",
       "version_major": 2,
       "version_minor": 0
      },
      "text/plain": [
       "HBox(children=(FloatProgress(value=0.0, max=187.0), HTML(value='')))"
      ]
     },
     "metadata": {},
     "output_type": "display_data"
    },
    {
     "name": "stdout",
     "output_type": "stream",
     "text": [
      "\n"
     ]
    }
   ],
   "source": [
    "bert_classifier.eval()\n",
    "correct_predictions = 0\n",
    "num_samples = 0\n",
    "test_predicted = []\n",
    "test_labels = []\n",
    "\n",
    "for step_num, batch_data in enumerate(tqdm(test_dataloader)):\n",
    "    token_ids, masks, labels = [t.to(device) for t in batch_data]\n",
    "    \n",
    "    with torch.no_grad():\n",
    "        outputs = bert_classifier(token_ids, masks)\n",
    "        outputs_sigmoid = torch.sigmoid(outputs)\n",
    "        \n",
    "        #pred_prob = torch.exp(logits) #to_probability\n",
    "        #pred_preds_np = pred_prob.detach().cpu().numpy()\n",
    "\n",
    "        predictions = outputs_sigmoid.cpu().detach().numpy()\n",
    "        targets = labels.cpu().detach().numpy()\n",
    "        \n",
    "        correct_predictions += np.sum(np.where(predictions>THRESHOLD, 1, 0)==targets)\n",
    "        num_samples += targets.size   # total number of elements in the 2D array\n",
    "        \n",
    "        test_predicted.append(np.where(predictions>THRESHOLD, 1, 0))\n",
    "        test_labels.append(targets)\n",
    "        \n",
    "test_pred = np.vstack(test_predicted)\n",
    "test_true = np.vstack(test_labels)"
   ]
  },
  {
   "cell_type": "code",
   "execution_count": 275,
   "metadata": {},
   "outputs": [
    {
     "name": "stdout",
     "output_type": "stream",
     "text": [
      "Accuracy on validation: 0.8354936198791135\n"
     ]
    }
   ],
   "source": [
    "print (\"Accuracy on validation: {}\".format(float(correct_predictions)/num_samples))"
   ]
  },
  {
   "cell_type": "code",
   "execution_count": 276,
   "metadata": {},
   "outputs": [
    {
     "name": "stdout",
     "output_type": "stream",
     "text": [
      "                        precision    recall  f1-score   support\n",
      "\n",
      "Database_Administrator       0.14      0.00      0.00       655\n",
      "   Front_End_Developer       0.00      0.00      0.00       797\n",
      "        Java_Developer       0.00      0.00      0.00       645\n",
      " Network_Administrator       0.00      0.00      0.00       951\n",
      "       Project_manager       0.00      0.00      0.00       899\n",
      "      Python_Developer       0.00      0.00      0.00       582\n",
      "      Security_Analyst       0.17      0.00      0.00       598\n",
      "    Software_Developer       0.64      0.66      0.65      2988\n",
      " Systems_Administrator       0.25      0.00      0.00      1224\n",
      "         Web_Developer       0.00      0.00      0.00      1300\n",
      "\n",
      "             micro avg       0.63      0.19      0.29     10639\n",
      "             macro avg       0.12      0.07      0.07     10639\n",
      "          weighted avg       0.23      0.19      0.18     10639\n",
      "           samples avg       0.33      0.17      0.21     10639\n",
      "\n"
     ]
    }
   ],
   "source": [
    "print(classification_report(test_true, test_pred, target_names=multilabel_binarizer.classes_, zero_division=0))"
   ]
  },
  {
   "cell_type": "code",
   "execution_count": null,
   "metadata": {},
   "outputs": [],
   "source": []
  }
 ],
 "metadata": {
  "colab": {
   "provenance": []
  },
  "kernelspec": {
   "display_name": "Python 3 (ipykernel)",
   "language": "python",
   "name": "python3"
  },
  "language_info": {
   "codemirror_mode": {
    "name": "ipython",
    "version": 3
   },
   "file_extension": ".py",
   "mimetype": "text/x-python",
   "name": "python",
   "nbconvert_exporter": "python",
   "pygments_lexer": "ipython3",
   "version": "3.10.13"
  }
 },
 "nbformat": 4,
 "nbformat_minor": 4
}
